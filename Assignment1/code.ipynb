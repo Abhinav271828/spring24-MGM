{
 "cells": [
  {
   "cell_type": "code",
   "execution_count": 10,
   "metadata": {},
   "outputs": [],
   "source": [
    "import numpy as np\n",
    "import matplotlib.pyplot as plt"
   ]
  },
  {
   "cell_type": "code",
   "execution_count": 11,
   "metadata": {},
   "outputs": [],
   "source": [
    "s1 = [1,0,1,0,0,1,1,0,0,1]\n",
    "s2 = [0,0,1,1,0,1,0,1,0,0]\n",
    "s3 = [1,1,0,1,0,0,0,0,0,0]\n",
    "s4 = [0,0,0,1,0,1,0,0,1,1]\n",
    "s5 = [0,0,0,0,0,0,1,0,1,1]\n",
    "s6 = [1,1,1,0,0,1,0,1,0,0]\n",
    "s7 = [1,0,1,0,1,0,1,1,1,1]\n",
    "s8 = [0,0,0,0,1,1,0,1,0,0]\n",
    "s9 = [0,0,0,1,0,0,1,0,1,1]\n",
    "s10 = [1,1,0,0,1,1,0,1,1,1]\n",
    "s11 = [0,1,0,0,1,0,1,1,1,1]\n",
    "s12 = [0,1,1,1,1,1,1,0,1,0]\n",
    "\n",
    "samples = [s1, s2, s3, s4, s5, s6, s7, s8, s9, s10, s11, s12]\n",
    "\n",
    "theta1 = None\n",
    "theta2 = [None, None]\n",
    "#theta2[k] = probability of 1 given x_1 = k\n",
    "thetas = [theta1, theta2] + \\\n",
    "         [[None, None, None, None] for _ in range(3, 11)]\n",
    "#thetai[k] = probability of 1 given x_{i-2} = k//2 and x_{i-1} = k % 2\n",
    "\n",
    "thetas[0] = sum(1 for s in samples if s[0] == 1)/12\n",
    "\n",
    "for k in range(2):\n",
    "    thetas[1][k] = sum(1 for s in samples if s[1] == 1 and s[0] == k)/sum(1 for s in samples if s[0] == k)\n",
    "\n",
    "for i in range(2, 10):\n",
    "    for k in range(4):\n",
    "        thetas[i][k] = sum(1 for s in samples if s[i] == 1 and s[i-1] == k//2 and s[i-2] == k%2)/(sum(1 for s in samples if s[i-1] == k//2 and s[i-2] == k%2))"
   ]
  },
  {
   "cell_type": "code",
   "execution_count": 15,
   "metadata": {},
   "outputs": [],
   "source": [
    "def gen_sample():\n",
    "    first = np.random.binomial(n=1, p=thetas[0])\n",
    "    second = np.random.binomial(n=1, p=thetas[1][first])\n",
    "    sample = [first, second]\n",
    "    for theta in thetas[2:]:\n",
    "        ith = np.random.binomial(n=1, p=theta[sample[-1]*2 + sample[-2]])\n",
    "        sample.append(ith)\n",
    "    return sample"
   ]
  },
  {
   "cell_type": "code",
   "execution_count": 17,
   "metadata": {},
   "outputs": [
    {
     "name": "stdout",
     "output_type": "stream",
     "text": [
      "[1, 0, 0, 0, 0, 0, 1, 1, 1, 1]\n",
      "[0, 0, 1, 0, 0, 1, 1, 0, 0, 1]\n",
      "[1, 1, 0, 1, 0, 0, 1, 1, 1, 1]\n",
      "[0, 1, 1, 0, 0, 0, 1, 1, 1, 1]\n",
      "[0, 0, 0, 0, 1, 1, 0, 1, 0, 1]\n",
      "[0, 0, 1, 1, 0, 0, 0, 0, 1, 0]\n",
      "[1, 1, 1, 0, 0, 1, 1, 0, 0, 1]\n",
      "[0, 1, 1, 1, 0, 0, 0, 0, 0, 0]\n",
      "[0, 0, 0, 0, 1, 0, 0, 0, 0, 1]\n",
      "[0, 0, 1, 0, 0, 1, 1, 0, 0, 1]\n"
     ]
    }
   ],
   "source": [
    "for _ in range(10):\n",
    "    print(gen_sample())"
   ]
  }
 ],
 "metadata": {
  "kernelspec": {
   "display_name": "Python 3",
   "language": "python",
   "name": "python3"
  },
  "language_info": {
   "codemirror_mode": {
    "name": "ipython",
    "version": 3
   },
   "file_extension": ".py",
   "mimetype": "text/x-python",
   "name": "python",
   "nbconvert_exporter": "python",
   "pygments_lexer": "ipython3",
   "version": "3.11.6"
  }
 },
 "nbformat": 4,
 "nbformat_minor": 2
}
